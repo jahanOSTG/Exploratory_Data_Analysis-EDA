{
  "nbformat": 4,
  "nbformat_minor": 0,
  "metadata": {
    "colab": {
      "provenance": []
    },
    "kernelspec": {
      "name": "python3",
      "display_name": "Python 3"
    },
    "language_info": {
      "name": "python"
    }
  },
  "cells": [
    {
      "cell_type": "code",
      "execution_count": 1,
      "metadata": {
        "id": "Wbuoq5nw4jn6"
      },
      "outputs": [],
      "source": [
        "import pandas as pd\n",
        "import seaborn as sns\n",
        "import matplotlib.pyplot as plt"
      ]
    },
    {
      "cell_type": "code",
      "source": [
        "# load dataset\n",
        "data=sns.load_dataset('titanic')"
      ],
      "metadata": {
        "id": "tNmiJVrk43DB"
      },
      "execution_count": 2,
      "outputs": []
    },
    {
      "cell_type": "code",
      "source": [
        "print(data.head())"
      ],
      "metadata": {
        "colab": {
          "base_uri": "https://localhost:8080/"
        },
        "id": "FZ54JCLg4_lc",
        "outputId": "193dfe35-698d-4efc-e7ce-4b1c8dfcc864"
      },
      "execution_count": 3,
      "outputs": [
        {
          "output_type": "stream",
          "name": "stdout",
          "text": [
            "   survived  pclass     sex   age  sibsp  parch     fare embarked  class  \\\n",
            "0         0       3    male  22.0      1      0   7.2500        S  Third   \n",
            "1         1       1  female  38.0      1      0  71.2833        C  First   \n",
            "2         1       3  female  26.0      0      0   7.9250        S  Third   \n",
            "3         1       1  female  35.0      1      0  53.1000        S  First   \n",
            "4         0       3    male  35.0      0      0   8.0500        S  Third   \n",
            "\n",
            "     who  adult_male deck  embark_town alive  alone  \n",
            "0    man        True  NaN  Southampton    no  False  \n",
            "1  woman       False    C    Cherbourg   yes  False  \n",
            "2  woman       False  NaN  Southampton   yes   True  \n",
            "3  woman       False    C  Southampton   yes  False  \n",
            "4    man        True  NaN  Southampton    no   True  \n"
          ]
        }
      ]
    },
    {
      "cell_type": "code",
      "source": [
        "print(data.tail())"
      ],
      "metadata": {
        "colab": {
          "base_uri": "https://localhost:8080/"
        },
        "id": "WX8RyNgm5CNW",
        "outputId": "0ed19cd9-7e60-4f04-b28f-79565e80f8ea"
      },
      "execution_count": 4,
      "outputs": [
        {
          "output_type": "stream",
          "name": "stdout",
          "text": [
            "     survived  pclass     sex   age  sibsp  parch   fare embarked   class  \\\n",
            "886         0       2    male  27.0      0      0  13.00        S  Second   \n",
            "887         1       1  female  19.0      0      0  30.00        S   First   \n",
            "888         0       3  female   NaN      1      2  23.45        S   Third   \n",
            "889         1       1    male  26.0      0      0  30.00        C   First   \n",
            "890         0       3    male  32.0      0      0   7.75        Q   Third   \n",
            "\n",
            "       who  adult_male deck  embark_town alive  alone  \n",
            "886    man        True  NaN  Southampton    no   True  \n",
            "887  woman       False    B  Southampton   yes   True  \n",
            "888  woman       False  NaN  Southampton    no  False  \n",
            "889    man        True    C    Cherbourg   yes   True  \n",
            "890    man        True  NaN   Queenstown    no   True  \n"
          ]
        }
      ]
    },
    {
      "cell_type": "code",
      "source": [
        "# understand the data\n",
        "print(\"shape: \",data.shape)"
      ],
      "metadata": {
        "colab": {
          "base_uri": "https://localhost:8080/"
        },
        "id": "PhFTUjD05F4u",
        "outputId": "d0643789-b0e3-4df2-be3a-898e69fbcd89"
      },
      "execution_count": 5,
      "outputs": [
        {
          "output_type": "stream",
          "name": "stdout",
          "text": [
            "shape:  (891, 15)\n"
          ]
        }
      ]
    },
    {
      "cell_type": "code",
      "source": [
        "# type and null info\n",
        "print(data.info())"
      ],
      "metadata": {
        "colab": {
          "base_uri": "https://localhost:8080/"
        },
        "id": "niZ4fDFN5QL2",
        "outputId": "673a934a-b46e-419d-c6bf-739f3566a3f7"
      },
      "execution_count": 6,
      "outputs": [
        {
          "output_type": "stream",
          "name": "stdout",
          "text": [
            "<class 'pandas.core.frame.DataFrame'>\n",
            "RangeIndex: 891 entries, 0 to 890\n",
            "Data columns (total 15 columns):\n",
            " #   Column       Non-Null Count  Dtype   \n",
            "---  ------       --------------  -----   \n",
            " 0   survived     891 non-null    int64   \n",
            " 1   pclass       891 non-null    int64   \n",
            " 2   sex          891 non-null    object  \n",
            " 3   age          714 non-null    float64 \n",
            " 4   sibsp        891 non-null    int64   \n",
            " 5   parch        891 non-null    int64   \n",
            " 6   fare         891 non-null    float64 \n",
            " 7   embarked     889 non-null    object  \n",
            " 8   class        891 non-null    category\n",
            " 9   who          891 non-null    object  \n",
            " 10  adult_male   891 non-null    bool    \n",
            " 11  deck         203 non-null    category\n",
            " 12  embark_town  889 non-null    object  \n",
            " 13  alive        891 non-null    object  \n",
            " 14  alone        891 non-null    bool    \n",
            "dtypes: bool(2), category(2), float64(2), int64(4), object(5)\n",
            "memory usage: 80.7+ KB\n",
            "None\n"
          ]
        }
      ]
    },
    {
      "cell_type": "code",
      "source": [
        "print(data.describe(include='all'))"
      ],
      "metadata": {
        "colab": {
          "base_uri": "https://localhost:8080/"
        },
        "id": "o08VMPr55YcI",
        "outputId": "98a512b0-3c32-4c35-8ab7-d549406b51b2"
      },
      "execution_count": 7,
      "outputs": [
        {
          "output_type": "stream",
          "name": "stdout",
          "text": [
            "          survived      pclass   sex         age       sibsp       parch  \\\n",
            "count   891.000000  891.000000   891  714.000000  891.000000  891.000000   \n",
            "unique         NaN         NaN     2         NaN         NaN         NaN   \n",
            "top            NaN         NaN  male         NaN         NaN         NaN   \n",
            "freq           NaN         NaN   577         NaN         NaN         NaN   \n",
            "mean      0.383838    2.308642   NaN   29.699118    0.523008    0.381594   \n",
            "std       0.486592    0.836071   NaN   14.526497    1.102743    0.806057   \n",
            "min       0.000000    1.000000   NaN    0.420000    0.000000    0.000000   \n",
            "25%       0.000000    2.000000   NaN   20.125000    0.000000    0.000000   \n",
            "50%       0.000000    3.000000   NaN   28.000000    0.000000    0.000000   \n",
            "75%       1.000000    3.000000   NaN   38.000000    1.000000    0.000000   \n",
            "max       1.000000    3.000000   NaN   80.000000    8.000000    6.000000   \n",
            "\n",
            "              fare embarked  class  who adult_male deck  embark_town alive  \\\n",
            "count   891.000000      889    891  891        891  203          889   891   \n",
            "unique         NaN        3      3    3          2    7            3     2   \n",
            "top            NaN        S  Third  man       True    C  Southampton    no   \n",
            "freq           NaN      644    491  537        537   59          644   549   \n",
            "mean     32.204208      NaN    NaN  NaN        NaN  NaN          NaN   NaN   \n",
            "std      49.693429      NaN    NaN  NaN        NaN  NaN          NaN   NaN   \n",
            "min       0.000000      NaN    NaN  NaN        NaN  NaN          NaN   NaN   \n",
            "25%       7.910400      NaN    NaN  NaN        NaN  NaN          NaN   NaN   \n",
            "50%      14.454200      NaN    NaN  NaN        NaN  NaN          NaN   NaN   \n",
            "75%      31.000000      NaN    NaN  NaN        NaN  NaN          NaN   NaN   \n",
            "max     512.329200      NaN    NaN  NaN        NaN  NaN          NaN   NaN   \n",
            "\n",
            "       alone  \n",
            "count    891  \n",
            "unique     2  \n",
            "top     True  \n",
            "freq     537  \n",
            "mean     NaN  \n",
            "std      NaN  \n",
            "min      NaN  \n",
            "25%      NaN  \n",
            "50%      NaN  \n",
            "75%      NaN  \n",
            "max      NaN  \n"
          ]
        }
      ]
    },
    {
      "cell_type": "code",
      "source": [
        "# missing values\n",
        "print(data.isnull())"
      ],
      "metadata": {
        "colab": {
          "base_uri": "https://localhost:8080/"
        },
        "id": "bJY5u22N5jv3",
        "outputId": "034e1fd4-3e2d-43fa-b063-ab6be2efb2e2"
      },
      "execution_count": 8,
      "outputs": [
        {
          "output_type": "stream",
          "name": "stdout",
          "text": [
            "     survived  pclass    sex    age  sibsp  parch   fare  embarked  class  \\\n",
            "0       False   False  False  False  False  False  False     False  False   \n",
            "1       False   False  False  False  False  False  False     False  False   \n",
            "2       False   False  False  False  False  False  False     False  False   \n",
            "3       False   False  False  False  False  False  False     False  False   \n",
            "4       False   False  False  False  False  False  False     False  False   \n",
            "..        ...     ...    ...    ...    ...    ...    ...       ...    ...   \n",
            "886     False   False  False  False  False  False  False     False  False   \n",
            "887     False   False  False  False  False  False  False     False  False   \n",
            "888     False   False  False   True  False  False  False     False  False   \n",
            "889     False   False  False  False  False  False  False     False  False   \n",
            "890     False   False  False  False  False  False  False     False  False   \n",
            "\n",
            "       who  adult_male   deck  embark_town  alive  alone  \n",
            "0    False       False   True        False  False  False  \n",
            "1    False       False  False        False  False  False  \n",
            "2    False       False   True        False  False  False  \n",
            "3    False       False  False        False  False  False  \n",
            "4    False       False   True        False  False  False  \n",
            "..     ...         ...    ...          ...    ...    ...  \n",
            "886  False       False   True        False  False  False  \n",
            "887  False       False  False        False  False  False  \n",
            "888  False       False   True        False  False  False  \n",
            "889  False       False  False        False  False  False  \n",
            "890  False       False   True        False  False  False  \n",
            "\n",
            "[891 rows x 15 columns]\n"
          ]
        }
      ]
    },
    {
      "cell_type": "code",
      "source": [
        "print(data.isnull().sum())"
      ],
      "metadata": {
        "colab": {
          "base_uri": "https://localhost:8080/"
        },
        "id": "bWH-5HqR5th-",
        "outputId": "34ac8e4c-21cf-4b28-a82e-4fa1d2a60bae"
      },
      "execution_count": 9,
      "outputs": [
        {
          "output_type": "stream",
          "name": "stdout",
          "text": [
            "survived         0\n",
            "pclass           0\n",
            "sex              0\n",
            "age            177\n",
            "sibsp            0\n",
            "parch            0\n",
            "fare             0\n",
            "embarked         2\n",
            "class            0\n",
            "who              0\n",
            "adult_male       0\n",
            "deck           688\n",
            "embark_town      2\n",
            "alive            0\n",
            "alone            0\n",
            "dtype: int64\n"
          ]
        }
      ]
    },
    {
      "cell_type": "code",
      "source": [
        "# show how many people survived\n",
        "print(data['survived'].value_counts())"
      ],
      "metadata": {
        "colab": {
          "base_uri": "https://localhost:8080/"
        },
        "id": "d1ORiB_75y_O",
        "outputId": "ef5bf023-7399-4f86-8498-4f0666e15ed8"
      },
      "execution_count": 10,
      "outputs": [
        {
          "output_type": "stream",
          "name": "stdout",
          "text": [
            "survived\n",
            "0    549\n",
            "1    342\n",
            "Name: count, dtype: int64\n"
          ]
        }
      ]
    },
    {
      "cell_type": "code",
      "source": [
        "print(data['alive'].value_counts())"
      ],
      "metadata": {
        "colab": {
          "base_uri": "https://localhost:8080/"
        },
        "id": "zZoxoPto6IYP",
        "outputId": "9d39ab96-6f42-4463-f3c6-cce469a9b6d2"
      },
      "execution_count": 11,
      "outputs": [
        {
          "output_type": "stream",
          "name": "stdout",
          "text": [
            "alive\n",
            "no     549\n",
            "yes    342\n",
            "Name: count, dtype: int64\n"
          ]
        }
      ]
    },
    {
      "cell_type": "code",
      "source": [
        "print(data['sex'].value_counts())"
      ],
      "metadata": {
        "colab": {
          "base_uri": "https://localhost:8080/"
        },
        "id": "AwCiTyaa6Rce",
        "outputId": "e4fa88c4-4098-45ff-ee92-18212cc2ec35"
      },
      "execution_count": 12,
      "outputs": [
        {
          "output_type": "stream",
          "name": "stdout",
          "text": [
            "sex\n",
            "male      577\n",
            "female    314\n",
            "Name: count, dtype: int64\n"
          ]
        }
      ]
    },
    {
      "cell_type": "code",
      "source": [
        "# unique values\n",
        "print(data['sex'].unique())"
      ],
      "metadata": {
        "colab": {
          "base_uri": "https://localhost:8080/"
        },
        "id": "Ynby59-b6WA2",
        "outputId": "e4e5538a-8e57-417d-cd80-ce506f6b3f20"
      },
      "execution_count": 13,
      "outputs": [
        {
          "output_type": "stream",
          "name": "stdout",
          "text": [
            "['male' 'female']\n"
          ]
        }
      ]
    },
    {
      "cell_type": "code",
      "source": [
        "print(data['survived'].unique())"
      ],
      "metadata": {
        "colab": {
          "base_uri": "https://localhost:8080/"
        },
        "id": "_FN6SwvY6i4W",
        "outputId": "a56022e0-1ac6-4e12-b887-e34258102b45"
      },
      "execution_count": 14,
      "outputs": [
        {
          "output_type": "stream",
          "name": "stdout",
          "text": [
            "[0 1]\n"
          ]
        }
      ]
    },
    {
      "cell_type": "code",
      "source": [
        "print(data['class'].unique())"
      ],
      "metadata": {
        "colab": {
          "base_uri": "https://localhost:8080/"
        },
        "id": "Y3m0J_wF6oIO",
        "outputId": "4563aaf2-f2f8-4ce4-d0af-e78ad3ddc6e9"
      },
      "execution_count": 15,
      "outputs": [
        {
          "output_type": "stream",
          "name": "stdout",
          "text": [
            "['Third', 'First', 'Second']\n",
            "Categories (3, object): ['First', 'Second', 'Third']\n"
          ]
        }
      ]
    },
    {
      "cell_type": "code",
      "source": [
        "print(data['who'].unique())"
      ],
      "metadata": {
        "colab": {
          "base_uri": "https://localhost:8080/"
        },
        "id": "uYDNxTPQ6qIO",
        "outputId": "86701250-8fc4-4e21-bf77-7f40a84cf583"
      },
      "execution_count": 16,
      "outputs": [
        {
          "output_type": "stream",
          "name": "stdout",
          "text": [
            "['man' 'woman' 'child']\n"
          ]
        }
      ]
    },
    {
      "cell_type": "code",
      "source": [
        "print(data['deck'].unique())"
      ],
      "metadata": {
        "colab": {
          "base_uri": "https://localhost:8080/"
        },
        "id": "j0k4SsCD6ve-",
        "outputId": "40655d38-466a-4526-d530-c4f3f53da1c6"
      },
      "execution_count": 18,
      "outputs": [
        {
          "output_type": "stream",
          "name": "stdout",
          "text": [
            "[NaN, 'C', 'E', 'G', 'D', 'A', 'B', 'F']\n",
            "Categories (7, object): ['A', 'B', 'C', 'D', 'E', 'F', 'G']\n"
          ]
        }
      ]
    },
    {
      "cell_type": "code",
      "source": [
        "print(data['alone'].unique())"
      ],
      "metadata": {
        "colab": {
          "base_uri": "https://localhost:8080/"
        },
        "id": "xxQiOzKx6xW2",
        "outputId": "34d79977-428c-434b-8282-b30fdf01f666"
      },
      "execution_count": 19,
      "outputs": [
        {
          "output_type": "stream",
          "name": "stdout",
          "text": [
            "[False  True]\n"
          ]
        }
      ]
    },
    {
      "cell_type": "code",
      "source": [
        "print(data['alone'].unique())"
      ],
      "metadata": {
        "colab": {
          "base_uri": "https://localhost:8080/"
        },
        "id": "p2009ooD631W",
        "outputId": "2fa50d0a-b008-4750-b2cc-422d2c98edcd"
      },
      "execution_count": 20,
      "outputs": [
        {
          "output_type": "stream",
          "name": "stdout",
          "text": [
            "[False  True]\n"
          ]
        }
      ]
    },
    {
      "cell_type": "code",
      "source": [],
      "metadata": {
        "id": "x3BNomcV657-"
      },
      "execution_count": null,
      "outputs": []
    },
    {
      "cell_type": "markdown",
      "source": [
        "## *Visualization*"
      ],
      "metadata": {
        "id": "VU-2tPss7TCM"
      }
    },
    {
      "cell_type": "markdown",
      "source": [
        "### Age Distribution (Histogram)"
      ],
      "metadata": {
        "id": "mk1G-2eY7dTq"
      }
    },
    {
      "cell_type": "code",
      "source": [
        "plt.hist(data['age'].dropna(), bins=30, color='hotpink')\n",
        "plt.title(\"Age Distribution\")\n",
        "plt.xlabel(\"Age\")\n",
        "plt.ylabel(\"Count\")\n",
        "plt.show()"
      ],
      "metadata": {
        "colab": {
          "base_uri": "https://localhost:8080/",
          "height": 472
        },
        "id": "GyAzmDik7W_u",
        "outputId": "8e790f0f-52c1-4ec5-e74a-ff00637525f9"
      },
      "execution_count": 21,
      "outputs": [
        {
          "output_type": "display_data",
          "data": {
            "text/plain": [
              "<Figure size 640x480 with 1 Axes>"
            ],
            "image/png": "[encoded data removed]"
          },
          "metadata": {}
        }
      ]
    },
    {
      "cell_type": "markdown",
      "source": [],
      "metadata": {
        "id": "0hiAktMF7Z42"
      }
    },
    {
      "cell_type": "code",
      "source": [
        "sns.countplot(x='class', data=data)\n",
        "plt.title(\"Passenger Class Count\")\n",
        "plt.show()"
      ],
      "metadata": {
        "colab": {
          "base_uri": "https://localhost:8080/",
          "height": 472
        },
        "id": "OFlo0Gs07okP",
        "outputId": "eb6a38a5-f760-4660-daab-6dd920fa4017"
      },
      "execution_count": 22,
      "outputs": [
        {
          "output_type": "display_data",
          "data": {
            "text/plain": [
              "<Figure size 640x480 with 1 Axes>"
            ],
            "image/png": "[encoded data removed]"
          },
          "metadata": {}
        }
      ]
    },
    {
      "cell_type": "code",
      "source": [
        "numeric_data = data.select_dtypes(include=['float64', 'int64'])\n",
        "\n",
        "plt.figure(figsize=(8,6))\n",
        "sns.heatmap(numeric_data.corr(), annot=True, cmap='coolwarm')\n",
        "plt.title(\"Correlation Heatmap\")\n",
        "plt.show()"
      ],
      "metadata": {
        "colab": {
          "base_uri": "https://localhost:8080/",
          "height": 545
        },
        "id": "b8jmzRZC7wXy",
        "outputId": "63f24688-3e12-4c62-ccd3-8b7471c620a5"
      },
      "execution_count": 23,
      "outputs": [
        {
          "output_type": "display_data",
          "data": {
            "text/plain": [
              "<Figure size 800x600 with 2 Axes>"
            ],
            "image/png": "[encoded data removed]"
          },
          "metadata": {}
        }
      ]
    },
    {
      "cell_type": "code",
      "source": [],
      "metadata": {
        "id": "H4yPeCB47xLu"
      },
      "execution_count": null,
      "outputs": []
    }
  ]
}